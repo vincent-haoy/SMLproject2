{
 "cells": [
  {
   "cell_type": "code",
   "execution_count": 2,
   "metadata": {
    "executionInfo": {
     "elapsed": 2390,
     "status": "ok",
     "timestamp": 1664368300334,
     "user": {
      "displayName": "s0coRrECT Ur",
      "userId": "05768332687332134567"
     },
     "user_tz": -600
    },
    "id": "JbkGG-nlmzSI"
   },
   "outputs": [],
   "source": [
    "import torch\n",
    "import torch.nn as nn\n",
    "import torch.nn.functional as F\n",
    "from torch.utils.data import Dataset, DataLoader"
   ]
  },
  {
   "cell_type": "code",
   "execution_count": 3,
   "metadata": {
    "executionInfo": {
     "elapsed": 339,
     "status": "ok",
     "timestamp": 1664368300669,
     "user": {
      "displayName": "s0coRrECT Ur",
      "userId": "05768332687332134567"
     },
     "user_tz": -600
    },
    "id": "nm169Kxtd-bV"
   },
   "outputs": [],
   "source": [
    "import pandas as pd\n",
    "from tqdm import tqdm\n",
    "import matplotlib.pyplot as plt\n",
    "from sklearn.metrics import f1_score"
   ]
  },
  {
   "cell_type": "code",
   "execution_count": 4,
   "metadata": {
    "colab": {
     "base_uri": "https://localhost:8080/"
    },
    "executionInfo": {
     "elapsed": 24,
     "status": "ok",
     "timestamp": 1664368301966,
     "user": {
      "displayName": "s0coRrECT Ur",
      "userId": "05768332687332134567"
     },
     "user_tz": -600
    },
    "id": "6fZS7S0PvhHh",
    "outputId": "04d281e9-3f11-4691-d17e-d520a842c5d0"
   },
   "outputs": [
    {
     "name": "stdout",
     "output_type": "stream",
     "text": [
      "1.12.1+cu116\n",
      "Sun Oct  2 13:01:11 2022       \n",
      "+-----------------------------------------------------------------------------+\n",
      "| NVIDIA-SMI 512.59       Driver Version: 512.59       CUDA Version: 11.6     |\n",
      "|-------------------------------+----------------------+----------------------+\n",
      "| GPU  Name            TCC/WDDM | Bus-Id        Disp.A | Volatile Uncorr. ECC |\n",
      "| Fan  Temp  Perf  Pwr:Usage/Cap|         Memory-Usage | GPU-Util  Compute M. |\n",
      "|                               |                      |               MIG M. |\n",
      "|===============================+======================+======================|\n",
      "|   0  NVIDIA GeForce ... WDDM  | 00000000:01:00.0 Off |                  N/A |\n",
      "| N/A   48C    P8    N/A /  N/A |      0MiB /  4096MiB |      0%      Default |\n",
      "|                               |                      |                  N/A |\n",
      "+-------------------------------+----------------------+----------------------+\n",
      "                                                                               \n",
      "+-----------------------------------------------------------------------------+\n",
      "| Processes:                                                                  |\n",
      "|  GPU   GI   CI        PID   Type   Process name                  GPU Memory |\n",
      "|        ID   ID                                                   Usage      |\n",
      "|=============================================================================|\n",
      "|  No running processes found                                                 |\n",
      "+-----------------------------------------------------------------------------+\n"
     ]
    }
   ],
   "source": [
    "device = torch.device('cuda' if torch.cuda.is_available() else 'cpu')\n",
    "print(device)\n",
    "print(torch.__version__)\n",
    "!nvidia-smi"
   ]
  },
  {
   "cell_type": "code",
   "execution_count": 4,
   "metadata": {
    "executionInfo": {
     "elapsed": 11,
     "status": "ok",
     "timestamp": 1664368301966,
     "user": {
      "displayName": "s0coRrECT Ur",
      "userId": "05768332687332134567"
     },
     "user_tz": -600
    },
    "id": "_MjVTyH8vhz1"
   },
   "outputs": [],
   "source": [
    "class PaperDataset(Dataset):\n",
    "\n",
    "    def __init__(self, path):\n",
    "        self.df = pd.read_json(path, orient=\"records\")\n",
    "\n",
    "    def __len__(self):\n",
    "        return len(self.df)\n",
    "\n",
    "    def __getitem__(self, index):\n",
    "        return self.one_hot(self.df.loc[index, :])\n",
    "    \n",
    "    def one_hot(self, row):\n",
    "        abstract = torch.zeros(4999)\n",
    "        abstract[[i-1 for i in row['abstract']]] = 1.\n",
    "\n",
    "        year = torch.zeros(19)\n",
    "        year[[row['year']]] = 1.\n",
    "\n",
    "        venue = torch.zeros(465)\n",
    "        venue[[row['venue']] if row['venue'] != '' else []] = 1.\n",
    "\n",
    "        coauthor = torch.zeros()\n",
    "\n",
    "        input = torch.cat([abstract, year, venue], 0)\n",
    "\n",
    "        label = torch.zeros(100)\n",
    "        label[row['proauthors']] = 1.\n",
    "        \n",
    "        return input, label"
   ]
  },
  {
   "cell_type": "code",
   "execution_count": 5,
   "metadata": {
    "executionInfo": {
     "elapsed": 11,
     "status": "ok",
     "timestamp": 1664368301967,
     "user": {
      "displayName": "s0coRrECT Ur",
      "userId": "05768332687332134567"
     },
     "user_tz": -600
    },
    "id": "UqCD9F1lIGGv"
   },
   "outputs": [],
   "source": [
    "class AuthorAttriClf(nn.Module):\n",
    "    def __init__(self):\n",
    "        super(AuthorAttriClf, self).__init__()\n",
    "\n",
    "        self.clf_block = nn.Sequential(\n",
    "            nn.Linear(5483, 2048),\n",
    "            # nn.ReLU(),\n",
    "            nn.Linear(2048, 1024),\n",
    "            # nn.ReLU(),\n",
    "            nn.Linear(1024, 512),\n",
    "            # nn.ReLU(),\n",
    "            nn.Linear(512, 100)\n",
    "        )\n",
    "\n",
    "    def forward(self, input):\n",
    "        probs = self.clf_block(input)\n",
    "\n",
    "        return probs    "
   ]
  },
  {
   "cell_type": "code",
   "execution_count": 6,
   "metadata": {
    "executionInfo": {
     "elapsed": 12,
     "status": "ok",
     "timestamp": 1664368301968,
     "user": {
      "displayName": "s0coRrECT Ur",
      "userId": "05768332687332134567"
     },
     "user_tz": -600
    },
    "id": "qTd7tZgJO-tz"
   },
   "outputs": [],
   "source": [
    "def train(train_status, model, optim, criterion, epoch_size, train_loader, valid_loader):\n",
    "   \n",
    "    for epoch in range(epoch_size):\n",
    "        model.train()\n",
    "        epoch_loss = 0\n",
    "        epoch_labels = torch.Tensor([])\n",
    "        epoch_preds = torch.Tensor([])\n",
    "\n",
    "        train_loop = tqdm(enumerate(train_loader), total=len(train_loader))\n",
    "        train_loop.set_description(f\"Epoch [{epoch+1}/{epoch_size}]\")\n",
    "\n",
    "        for batch, (inputs, labels) in train_loop:\n",
    "            inputs = inputs.to(device)\n",
    "            labels = labels.to(device)\n",
    "            outputs = model(inputs)\n",
    "            loss = criterion(outputs, labels)\n",
    "\n",
    "            optim.zero_grad()\n",
    "            loss.backward()\n",
    "            optim.step() \n",
    "\n",
    "            epoch_loss += loss.item()\n",
    "            epoch_preds = torch.cat(((epoch_preds, (outputs.cpu() > 0.5).int())), 0)\n",
    "            epoch_labels = torch.cat((epoch_labels, labels.cpu()), 0)\n",
    "\n",
    "            train_loop.set_postfix_str(\n",
    "                'train_loss={:.5f}'.format(loss.item())\n",
    "            )\n",
    "\n",
    "            if batch == len(train_loader)-1:\n",
    "                epoch_loss /= len(train_loader.dataset)/train_loader.batch_size\n",
    "                train_f1 = f1_score(epoch_labels, epoch_preds, average='samples', zero_division=1)\n",
    "                valid_f1 = validate(model, valid_loader)\n",
    "                train_loop.set_postfix_str(\n",
    "                    'train_loss={:.5f}, train_f1={:.5f}, valid_f1={:.5f}'.format(\n",
    "                        epoch_loss, train_f1, valid_f1\n",
    "                    )\n",
    "                )\n",
    "\n",
    "def validate(model, valid_loader):\n",
    "    model.eval()\n",
    "    valid_labels = torch.Tensor([])\n",
    "    valid_preds = torch.Tensor([])\n",
    "    with torch.no_grad():\n",
    "        for batch, (inputs, labels) in enumerate(valid_loader):\n",
    "            inputs = inputs.to(device)\n",
    "            labels = labels.to(device)\n",
    "            outputs = model(inputs)\n",
    "\n",
    "            valid_preds = torch.cat(((valid_preds, (outputs.cpu() > 0.5).int())), 0)\n",
    "            valid_labels = torch.cat((valid_labels, labels.cpu()), 0)\n",
    "\n",
    "    return f1_score(valid_labels, valid_preds, average='samples', zero_division=1)\n",
    "    "
   ]
  },
  {
   "cell_type": "code",
   "execution_count": 7,
   "metadata": {
    "executionInfo": {
     "elapsed": 12,
     "status": "ok",
     "timestamp": 1664368301968,
     "user": {
      "displayName": "s0coRrECT Ur",
      "userId": "05768332687332134567"
     },
     "user_tz": -600
    },
    "id": "WICnh1dQVwNx"
   },
   "outputs": [],
   "source": [
    "# a = torch.Tensor([[1,1], [0,1], [0,0]])\n",
    "# # a += 1\n",
    "# a\n",
    "# for row in a:\n",
    "#     print(torch.nonzero(row, as_tuple=True)[0])"
   ]
  },
  {
   "cell_type": "code",
   "execution_count": 8,
   "metadata": {
    "colab": {
     "base_uri": "https://localhost:8080/"
    },
    "executionInfo": {
     "elapsed": 36677,
     "status": "ok",
     "timestamp": 1664368338633,
     "user": {
      "displayName": "s0coRrECT Ur",
      "userId": "05768332687332134567"
     },
     "user_tz": -600
    },
    "id": "y21EJ_m079Jw",
    "outputId": "7b88c153-c4ed-4eac-e1ee-f9fdf2dd7de6"
   },
   "outputs": [
    {
     "name": "stdout",
     "output_type": "stream",
     "text": [
      "Mounted at /content/gdrive/\n"
     ]
    }
   ],
   "source": [
    "from google.colab import drive\n",
    "drive.mount('/content/gdrive/') \n",
    "\n",
    "train_set = PaperDataset('/content/gdrive/MyDrive/Colab Notebooks/COMP90051/Project2/data/train.json')\n",
    "valid_set = PaperDataset('/content/gdrive/MyDrive/Colab Notebooks/COMP90051/Project2/data/valid.json')"
   ]
  },
  {
   "cell_type": "code",
   "execution_count": 10,
   "metadata": {
    "colab": {
     "base_uri": "https://localhost:8080/"
    },
    "executionInfo": {
     "elapsed": 1544982,
     "status": "ok",
     "timestamp": 1664370014878,
     "user": {
      "displayName": "s0coRrECT Ur",
      "userId": "05768332687332134567"
     },
     "user_tz": -600
    },
    "id": "-gldR9Qu1--r",
    "outputId": "a30223b8-48a2-454d-951b-b4057cab37ca"
   },
   "outputs": [
    {
     "name": "stderr",
     "output_type": "stream",
     "text": [
      "Epoch [1/20]: 100%|██████████| 5159/5159 [01:17<00:00, 66.31it/s, train_loss=5.93597, train_f1=0.60779, valid_f1=0.69016]\n",
      "Epoch [2/20]: 100%|██████████| 5159/5159 [01:18<00:00, 65.92it/s, train_loss=5.46856, train_f1=0.60849, valid_f1=0.62505]\n",
      "Epoch [3/20]: 100%|██████████| 5159/5159 [01:17<00:00, 66.42it/s, train_loss=3.42921, train_f1=0.60219, valid_f1=0.67093]\n",
      "Epoch [4/20]: 100%|██████████| 5159/5159 [01:17<00:00, 66.36it/s, train_loss=9.79208, train_f1=0.59987, valid_f1=0.63200]\n",
      "Epoch [5/20]: 100%|██████████| 5159/5159 [01:18<00:00, 65.89it/s, train_loss=6.72052, train_f1=0.59954, valid_f1=0.65475]\n",
      "Epoch [6/20]: 100%|██████████| 5159/5159 [01:18<00:00, 65.98it/s, train_loss=1.28463, train_f1=0.60706, valid_f1=0.68773]\n",
      "Epoch [7/20]: 100%|██████████| 5159/5159 [01:18<00:00, 65.97it/s, train_loss=12.87036, train_f1=0.60902, valid_f1=0.32811]\n",
      "Epoch [8/20]: 100%|██████████| 5159/5159 [01:17<00:00, 66.63it/s, train_loss=1.48483, train_f1=0.60998, valid_f1=0.55801]\n",
      "Epoch [9/20]: 100%|██████████| 5159/5159 [01:17<00:00, 66.90it/s, train_loss=3.44589, train_f1=0.60846, valid_f1=0.64691]\n",
      "Epoch [10/20]: 100%|██████████| 5159/5159 [01:17<00:00, 66.84it/s, train_loss=2.47290, train_f1=0.60266, valid_f1=0.00563]\n",
      "Epoch [11/20]: 100%|██████████| 5159/5159 [01:17<00:00, 66.79it/s, train_loss=4.59563, train_f1=0.61441, valid_f1=0.53615]\n",
      "Epoch [12/20]: 100%|██████████| 5159/5159 [01:17<00:00, 66.99it/s, train_loss=1.41363, train_f1=0.61287, valid_f1=0.59895]\n",
      "Epoch [13/20]: 100%|██████████| 5159/5159 [01:16<00:00, 67.37it/s, train_loss=3.70527, train_f1=0.61471, valid_f1=0.56367]\n",
      "Epoch [14/20]: 100%|██████████| 5159/5159 [01:16<00:00, 67.27it/s, train_loss=1.25099, train_f1=0.60732, valid_f1=0.61385]\n",
      "Epoch [15/20]: 100%|██████████| 5159/5159 [01:16<00:00, 67.09it/s, train_loss=2.31988, train_f1=0.60457, valid_f1=0.54419]\n",
      "Epoch [16/20]: 100%|██████████| 5159/5159 [01:16<00:00, 67.55it/s, train_loss=1.11221, train_f1=0.61292, valid_f1=0.62259]\n",
      "Epoch [17/20]: 100%|██████████| 5159/5159 [01:16<00:00, 67.61it/s, train_loss=12.58234, train_f1=0.61385, valid_f1=0.62080]\n",
      "Epoch [18/20]: 100%|██████████| 5159/5159 [01:16<00:00, 67.67it/s, train_loss=1.17618, train_f1=0.62126, valid_f1=0.60961]\n",
      "Epoch [19/20]: 100%|██████████| 5159/5159 [01:16<00:00, 67.50it/s, train_loss=1.52015, train_f1=0.60988, valid_f1=0.65057]\n",
      "Epoch [20/20]: 100%|██████████| 5159/5159 [01:16<00:00, 67.47it/s, train_loss=3.04373, train_f1=0.60793, valid_f1=0.67000]\n"
     ]
    }
   ],
   "source": [
    "epoch_size = 20\n",
    "batch_size = 4\n",
    "lr = 2e-3\n",
    "\n",
    "model = AuthorAttriClf().to(device)\n",
    "optim = torch.optim.AdamW(model.parameters(), lr=lr)\n",
    "criterion = nn.BCEWithLogitsLoss()\n",
    "\n",
    "train_loader = DataLoader(train_set, batch_size=batch_size, shuffle=True, num_workers=0)\n",
    "valid_loader = DataLoader(valid_set, batch_size=batch_size, shuffle=True, num_workers=0)\n",
    "\n",
    "train_status = {'train_loss': []}\n",
    "train(train_status, model, optim, criterion, epoch_size, train_loader, valid_loader)"
   ]
  }
 ],
 "metadata": {
  "accelerator": "GPU",
  "colab": {
   "authorship_tag": "ABX9TyP90vBpz8ntxx+ggMKlJfws",
   "collapsed_sections": [],
   "provenance": []
  },
  "kernelspec": {
   "display_name": "Python 3 (ipykernel)",
   "language": "python",
   "name": "python3"
  },
  "language_info": {
   "codemirror_mode": {
    "name": "ipython",
    "version": 3
   },
   "file_extension": ".py",
   "mimetype": "text/x-python",
   "name": "python",
   "nbconvert_exporter": "python",
   "pygments_lexer": "ipython3",
   "version": "3.9.7"
  }
 },
 "nbformat": 4,
 "nbformat_minor": 1
}

{
 "cells": [
  {
   "cell_type": "code",
   "execution_count": 1,
   "id": "c0ca9bde",
   "metadata": {},
   "outputs": [],
   "source": [
    "import pandas as pd\n",
    "import numpy as np\n",
    "import json\n",
    "from sklearn.metrics import f1_score\n",
    "from sklearn.model_selection import train_test_split\n",
    "from sklearn.utils import resample"
   ]
  },
  {
   "cell_type": "code",
   "execution_count": 2,
   "id": "b81c183b",
   "metadata": {},
   "outputs": [],
   "source": [
    "df_train = json.load(open(r\"C:\\Users\\22794\\Desktop\\SML A2\\SMLproject2\\data\\backup\\train.json\"))\n",
    "df_test = pd.read_json(r\"C:\\Users\\22794\\Desktop\\SML A2\\SMLproject2\\data\\downsamp\\test.json\")"
   ]
  },
  {
   "cell_type": "code",
   "execution_count": 3,
   "id": "c6af6346",
   "metadata": {},
   "outputs": [],
   "source": [
    "coauthor = []\n",
    "text = []\n",
    "venue = []\n",
    "df = []\n",
    "\n",
    "for i, each in enumerate(df_train):\n",
    "    venue_onehot = np.zeros(465)\n",
    "    if each['venue'] != '':\n",
    "        venue_onehot[[each['venue']]] = 1\n",
    "    \n",
    "    coauthor_onehot = np.zeros(21146)\n",
    "    for j in each['authors']:\n",
    "        if j < 100:\n",
    "            coauthor_onehot[j] = 1\n",
    "    \n",
    "    text_onehot = np.zeros(4999)\n",
    "    for k in each['abstract']:\n",
    "        text_onehot[k-1] = 1\n",
    "    \n",
    "    textual = np.concatenate([venue_onehot, coauthor_onehot, text_onehot], axis=0)\n",
    "    df.append(textual)"
   ]
  },
  {
   "cell_type": "code",
   "execution_count": 4,
   "id": "5618cb14",
   "metadata": {},
   "outputs": [],
   "source": [
    "labels = []\n",
    "for i, each in enumerate(df_train):\n",
    "    label = np.zeros(100)\n",
    "    have_coauthor = [i for i in each['authors'] if i < 100]\n",
    "    if len(have_coauthor) == 0:\n",
    "        label[-1] == 1\n",
    "    else:\n",
    "        label[have_coauthor] = 1\n",
    "    labels.append(label)"
   ]
  },
  {
   "cell_type": "code",
   "execution_count": 5,
   "id": "33210b2b",
   "metadata": {},
   "outputs": [],
   "source": [
    "train, valid, labels_train, labels_valid = train_test_split(df, labels, test_size=0.2, random_state=51)"
   ]
  },
  {
   "cell_type": "markdown",
   "id": "7c7c0e2a",
   "metadata": {},
   "source": [
    "### Multi-label Support Vector Machine"
   ]
  },
  {
   "cell_type": "code",
   "execution_count": null,
   "id": "ce0644db",
   "metadata": {},
   "outputs": [],
   "source": [
    "from sklearn.svm import LinearSVC, SVC, NuSVC\n",
    "from sklearn.multioutput import MultiOutputClassifier\n",
    "\n",
    "svm = SVC()\n",
    "multilabel_classifier = MultiOutputClassifier(svm, n_jobs=-1)\n",
    "multilabel_classifier = multilabel_classifier.fit(train, labels_train)"
   ]
  },
  {
   "cell_type": "code",
   "execution_count": null,
   "id": "fd4f49e8",
   "metadata": {},
   "outputs": [],
   "source": [
    "import pickle\n",
    "filename = 'onehot_svm.sav'\n",
    "pickle.dump(svm, open(filename, 'wb'))"
   ]
  },
  {
   "cell_type": "code",
   "execution_count": null,
   "id": "290b91e4",
   "metadata": {},
   "outputs": [],
   "source": [
    "train_predictions = multilabel_classifier.predict(data_train)\n",
    "\n",
    "f1_score(labels_train, train_predictions, average='samples')"
   ]
  },
  {
   "cell_type": "code",
   "execution_count": null,
   "id": "fd52b4cc",
   "metadata": {},
   "outputs": [],
   "source": [
    "predictions = multilabel_classifier.predict(data_valid)\n",
    "\n",
    "f1_score(labels_valid, predictions, average='samples')"
   ]
  },
  {
   "cell_type": "code",
   "execution_count": null,
   "id": "42b68702",
   "metadata": {},
   "outputs": [],
   "source": []
  }
 ],
 "metadata": {
  "kernelspec": {
   "display_name": "tf2.5",
   "language": "python",
   "name": "tf2.5"
  },
  "language_info": {
   "codemirror_mode": {
    "name": "ipython",
    "version": 3
   },
   "file_extension": ".py",
   "mimetype": "text/x-python",
   "name": "python",
   "nbconvert_exporter": "python",
   "pygments_lexer": "ipython3",
   "version": "3.8.0"
  }
 },
 "nbformat": 4,
 "nbformat_minor": 5
}

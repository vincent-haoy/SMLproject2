{
 "cells": [
  {
   "cell_type": "code",
   "execution_count": 1,
   "metadata": {},
   "outputs": [
    {
     "name": "stdout",
     "output_type": "stream",
     "text": [
      "Requirement already satisfied: pandas in /opt/conda/lib/python3.7/site-packages (1.3.5)\n",
      "Requirement already satisfied: numpy>=1.17.3 in /opt/conda/lib/python3.7/site-packages (from pandas) (1.21.5)\n",
      "Requirement already satisfied: python-dateutil>=2.7.3 in /opt/conda/lib/python3.7/site-packages (from pandas) (2.8.2)\n",
      "Requirement already satisfied: pytz>=2017.3 in /opt/conda/lib/python3.7/site-packages (from pandas) (2022.1)\n",
      "Requirement already satisfied: six>=1.5 in /opt/conda/lib/python3.7/site-packages (from python-dateutil>=2.7.3->pandas) (1.16.0)\n",
      "\u001b[33mWARNING: Running pip as the 'root' user can result in broken permissions and conflicting behaviour with the system package manager. It is recommended to use a virtual environment instead: https://pip.pypa.io/warnings/venv\u001b[0m\n",
      "Requirement already satisfied: tqdm in /opt/conda/lib/python3.7/site-packages (4.63.0)\n",
      "\u001b[33mWARNING: Running pip as the 'root' user can result in broken permissions and conflicting behaviour with the system package manager. It is recommended to use a virtual environment instead: https://pip.pypa.io/warnings/venv\u001b[0m\n",
      "Requirement already satisfied: sklearn in /opt/conda/lib/python3.7/site-packages (0.0)\n",
      "Requirement already satisfied: scikit-learn in /opt/conda/lib/python3.7/site-packages (from sklearn) (1.0.2)\n",
      "Requirement already satisfied: threadpoolctl>=2.0.0 in /opt/conda/lib/python3.7/site-packages (from scikit-learn->sklearn) (3.1.0)\n",
      "Requirement already satisfied: joblib>=0.11 in /opt/conda/lib/python3.7/site-packages (from scikit-learn->sklearn) (1.2.0)\n",
      "Requirement already satisfied: numpy>=1.14.6 in /opt/conda/lib/python3.7/site-packages (from scikit-learn->sklearn) (1.21.5)\n",
      "Requirement already satisfied: scipy>=1.1.0 in /opt/conda/lib/python3.7/site-packages (from scikit-learn->sklearn) (1.7.3)\n",
      "\u001b[33mWARNING: Running pip as the 'root' user can result in broken permissions and conflicting behaviour with the system package manager. It is recommended to use a virtual environment instead: https://pip.pypa.io/warnings/venv\u001b[0m\n"
     ]
    }
   ],
   "source": [
    "!pip install pandas\n",
    "!pip install tqdm\n",
    "!pip install sklearn"
   ]
  },
  {
   "cell_type": "code",
   "execution_count": 2,
   "metadata": {
    "executionInfo": {
     "elapsed": 2892,
     "status": "ok",
     "timestamp": 1664895382287,
     "user": {
      "displayName": "s0coRrECT Ur",
      "userId": "05768332687332134567"
     },
     "user_tz": -660
    },
    "id": "JbkGG-nlmzSI"
   },
   "outputs": [],
   "source": [
    "import torch\n",
    "import torch.nn as nn\n",
    "import torch.nn.functional as F\n",
    "from torch.utils.data import Dataset, DataLoader"
   ]
  },
  {
   "cell_type": "code",
   "execution_count": 3,
   "metadata": {
    "executionInfo": {
     "elapsed": 8,
     "status": "ok",
     "timestamp": 1664895382288,
     "user": {
      "displayName": "s0coRrECT Ur",
      "userId": "05768332687332134567"
     },
     "user_tz": -660
    },
    "id": "nm169Kxtd-bV"
   },
   "outputs": [],
   "source": [
    "import pandas as pd\n",
    "from tqdm import tqdm\n",
    "from sklearn.metrics import f1_score"
   ]
  },
  {
   "cell_type": "code",
   "execution_count": 4,
   "metadata": {
    "colab": {
     "base_uri": "https://localhost:8080/"
    },
    "executionInfo": {
     "elapsed": 529,
     "status": "ok",
     "timestamp": 1664895382811,
     "user": {
      "displayName": "s0coRrECT Ur",
      "userId": "05768332687332134567"
     },
     "user_tz": -660
    },
    "id": "6fZS7S0PvhHh",
    "outputId": "8e84b02f-dfcb-44fc-a287-7384c6bfcbb5"
   },
   "outputs": [
    {
     "name": "stdout",
     "output_type": "stream",
     "text": [
      "Thu Oct  6 18:40:57 2022       \n",
      "+-----------------------------------------------------------------------------+\n",
      "| NVIDIA-SMI 515.65.01    Driver Version: 515.65.01    CUDA Version: 11.7     |\n",
      "|-------------------------------+----------------------+----------------------+\n",
      "| GPU  Name        Persistence-M| Bus-Id        Disp.A | Volatile Uncorr. ECC |\n",
      "| Fan  Temp  Perf  Pwr:Usage/Cap|         Memory-Usage | GPU-Util  Compute M. |\n",
      "|                               |                      |               MIG M. |\n",
      "|===============================+======================+======================|\n",
      "|   0  NVIDIA GeForce ...  On   | 00000000:81:00.0 Off |                  N/A |\n",
      "| 30%   33C    P8    20W / 350W |      3MiB / 24576MiB |      0%      Default |\n",
      "|                               |                      |                  N/A |\n",
      "+-------------------------------+----------------------+----------------------+\n",
      "                                                                               \n",
      "+-----------------------------------------------------------------------------+\n",
      "| Processes:                                                                  |\n",
      "|  GPU   GI   CI        PID   Type   Process name                  GPU Memory |\n",
      "|        ID   ID                                                   Usage      |\n",
      "|=============================================================================|\n",
      "|  No running processes found                                                 |\n",
      "+-----------------------------------------------------------------------------+\n"
     ]
    }
   ],
   "source": [
    "device = torch.device('cuda' if torch.cuda.is_available() else 'cpu')\n",
    "!nvidia-smi"
   ]
  },
  {
   "cell_type": "code",
   "execution_count": 15,
   "metadata": {
    "executionInfo": {
     "elapsed": 9,
     "status": "ok",
     "timestamp": 1664895382811,
     "user": {
      "displayName": "s0coRrECT Ur",
      "userId": "05768332687332134567"
     },
     "user_tz": -660
    },
    "id": "_MjVTyH8vhz1"
   },
   "outputs": [],
   "source": [
    "class PaperDataset(Dataset):\n",
    "\n",
    "    def __init__(self, path, test=False):\n",
    "        self.df = pd.read_json(path, orient=\"records\")\n",
    "        self.test = test\n",
    "\n",
    "    def __len__(self):\n",
    "        return len(self.df)\n",
    "\n",
    "    def __getitem__(self, index):\n",
    "        return self.one_hot(self.df.loc[index, :])\n",
    "    \n",
    "    def one_hot(self, row):\n",
    "        # title = torch.zeros(4999)\n",
    "        # title[[i-1 for i in row['title']]] = 1.\n",
    "\n",
    "        # abstract = torch.zeros(4999)\n",
    "        # abstract[[i-1 for i in row['abstract']]] = 1.\n",
    "        text = [i-1 for i in row['title']]\n",
    "        text.extend([i-1 for i in row['abstract']])\n",
    "        doc = torch.zeros(4999)\n",
    "        doc[[text]] = 1.\n",
    "\n",
    "        venue = torch.zeros(465)\n",
    "        venue[[row['venue']] if row['venue'] != '' else []] = 1.\n",
    "\n",
    "        coauthor = torch.zeros(21146)\n",
    "        coauthor[[i-100 for i in row['coauthors']]] = 1.\n",
    "\n",
    "        input = torch.cat([doc, coauthor, venue], 0)\n",
    "\n",
    "        if not self.test:\n",
    "            label = torch.zeros(100)\n",
    "            label[row['proauthors']] = 1.\n",
    "\n",
    "            # label = torch.zeros(100)\n",
    "            # if len(row['proauthors']) > 0:\n",
    "            #     label[row['proauthors']] = 1.\n",
    "            # else:\n",
    "            #     label[-1] = 1.\n",
    "            \n",
    "            return input, label\n",
    "        else:\n",
    "            return input, row[\"identifier\"]"
   ]
  },
  {
   "cell_type": "code",
   "execution_count": 16,
   "metadata": {
    "executionInfo": {
     "elapsed": 9,
     "status": "ok",
     "timestamp": 1664895382812,
     "user": {
      "displayName": "s0coRrECT Ur",
      "userId": "05768332687332134567"
     },
     "user_tz": -660
    },
    "id": "UqCD9F1lIGGv"
   },
   "outputs": [],
   "source": [
    "class AuthorAttriClf(nn.Module):\n",
    "    def __init__(self):\n",
    "        super(AuthorAttriClf, self).__init__()\n",
    "\n",
    "        self.clf_block = nn.Sequential(\n",
    "            nn.Linear(26610, 2048),\n",
    "            nn.Dropout(),\n",
    "            nn.Linear(2048, 1024),\n",
    "            nn.Dropout(),\n",
    "            nn.Linear(1024, 100)\n",
    "        )\n",
    "\n",
    "    def forward(self, input):\n",
    "        probs = self.clf_block(input)\n",
    "\n",
    "        return probs    "
   ]
  },
  {
   "cell_type": "code",
   "execution_count": 17,
   "metadata": {
    "executionInfo": {
     "elapsed": 8,
     "status": "ok",
     "timestamp": 1664895382813,
     "user": {
      "displayName": "s0coRrECT Ur",
      "userId": "05768332687332134567"
     },
     "user_tz": -660
    },
    "id": "qTd7tZgJO-tz"
   },
   "outputs": [],
   "source": [
    "def train(train_status, model, optim, scheduler, criterion, epoch_size, train_loader, valid_loader):\n",
    "   \n",
    "    for epoch in range(epoch_size):\n",
    "        model.train()\n",
    "        epoch_loss = 0\n",
    "        epoch_labels = torch.Tensor([])\n",
    "        epoch_preds = torch.Tensor([])\n",
    "\n",
    "        train_loop = tqdm(enumerate(train_loader), total=len(train_loader))\n",
    "        train_loop.set_description(f\"Epoch [{epoch+1}/{epoch_size}]\")\n",
    "\n",
    "        for batch, (inputs, labels) in train_loop:\n",
    "            inputs = inputs.to(device)\n",
    "            labels = labels.to(device)\n",
    "            outputs = model(inputs)\n",
    "            loss = criterion(outputs, labels)\n",
    "\n",
    "            optim.zero_grad()\n",
    "            loss.backward()\n",
    "            optim.step() \n",
    "\n",
    "            epoch_loss += loss.item()\n",
    "            epoch_preds = torch.cat(((epoch_preds, (outputs.cpu() > 0.5).int())), 0)\n",
    "            epoch_labels = torch.cat((epoch_labels, labels.cpu()), 0)\n",
    "\n",
    "            train_loop.set_postfix_str(\n",
    "                'train_loss={:.5f}'.format(loss.item())\n",
    "            )\n",
    "\n",
    "            if batch == len(train_loader)-1:\n",
    "                epoch_loss /= len(train_loader.dataset)/train_loader.batch_size\n",
    "                valid_loss, valid_f1 = validate(model, criterion, valid_loader)\n",
    "                train_loop.set_postfix_str(\n",
    "                    'train_loss={:.5f}, valid_loss={:.5f}, valid_f1={:.5f}'.format(\n",
    "                        epoch_loss, valid_loss, valid_f1\n",
    "                    )\n",
    "                )\n",
    "\n",
    "                # train_f1 = f1_score(epoch_labels, epoch_preds, average='samples', zero_division=1)\n",
    "                # valid_f1 = validate(model, valid_loader)\n",
    "                # train_loop.set_postfix_str(\n",
    "                #     'train_loss={:.5f}, train_f1={:.5f}, valid_f1={:.5f}'.format(\n",
    "                #         epoch_loss, train_f1, valid_f1\n",
    "                #     )\n",
    "                # )、\n",
    "                scheduler.step()\n",
    "\n",
    "def validate(model, criterion, valid_loader):\n",
    "    model.eval()\n",
    "    valid_labels = torch.Tensor([])\n",
    "    valid_preds = torch.Tensor([])\n",
    "    valid_loss = 0\n",
    "    with torch.no_grad():\n",
    "        for batch, (inputs, labels) in enumerate(valid_loader):\n",
    "            inputs = inputs.to(device)\n",
    "            labels = labels.to(device)\n",
    "            outputs = model(inputs)\n",
    "            \n",
    "            loss = criterion(outputs, labels)\n",
    "            valid_loss += loss.item()\n",
    "            valid_preds = torch.cat(((valid_preds, (outputs.cpu() > 0.8).int())), 0)\n",
    "            valid_labels = torch.cat((valid_labels, labels.cpu()), 0)\n",
    "        valid_loss /= len(valid_loader.dataset)/valid_loader.batch_size\n",
    "    return valid_loss, f1_score(valid_labels, valid_preds, average='samples', zero_division=1)\n",
    "    "
   ]
  },
  {
   "cell_type": "code",
   "execution_count": 18,
   "metadata": {
    "colab": {
     "base_uri": "https://localhost:8080/"
    },
    "executionInfo": {
     "elapsed": 21127,
     "status": "ok",
     "timestamp": 1664895403934,
     "user": {
      "displayName": "s0coRrECT Ur",
      "userId": "05768332687332134567"
     },
     "user_tz": -660
    },
    "id": "y21EJ_m079Jw",
    "outputId": "40371ff5-93f9-4743-dafd-b5dc04a72318"
   },
   "outputs": [],
   "source": [
    "train_set = PaperDataset('./data/only/train.json')\n",
    "valid_set = PaperDataset('./data/only/valid.json')"
   ]
  },
  {
   "cell_type": "code",
   "execution_count": 20,
   "metadata": {
    "colab": {
     "base_uri": "https://localhost:8080/"
    },
    "id": "-gldR9Qu1--r",
    "outputId": "7b12a490-b903-4b1e-819a-1a735747bb95"
   },
   "outputs": [
    {
     "name": "stderr",
     "output_type": "stream",
     "text": [
      "Epoch [1/20]: 100%|██████████| 187/187 [00:03<00:00, 48.61it/s, train_loss=0.08274, valid_loss=0.05712, valid_f1=0.01591]\n",
      "Epoch [2/20]: 100%|██████████| 187/187 [00:03<00:00, 47.88it/s, train_loss=0.04170, valid_loss=0.04549, valid_f1=0.13257]\n",
      "Epoch [3/20]: 100%|██████████| 187/187 [00:03<00:00, 50.09it/s, train_loss=0.02327, valid_loss=0.04508, valid_f1=0.21881]\n",
      "Epoch [4/20]: 100%|██████████| 187/187 [00:03<00:00, 47.28it/s, train_loss=0.01588, valid_loss=0.05812, valid_f1=0.24668]\n",
      "Epoch [5/20]: 100%|██████████| 187/187 [00:03<00:00, 49.26it/s, train_loss=0.01686, valid_loss=0.07050, valid_f1=0.24118]\n",
      "Epoch [6/20]: 100%|██████████| 187/187 [00:04<00:00, 46.36it/s, train_loss=0.01841, valid_loss=0.07781, valid_f1=0.27529]\n",
      "Epoch [7/20]: 100%|██████████| 187/187 [00:03<00:00, 48.09it/s, train_loss=0.01311, valid_loss=0.07869, valid_f1=0.28302]\n",
      "Epoch [8/20]: 100%|██████████| 187/187 [00:03<00:00, 49.24it/s, train_loss=0.01071, valid_loss=0.10849, valid_f1=0.20027]\n",
      "Epoch [9/20]: 100%|██████████| 187/187 [00:03<00:00, 48.13it/s, train_loss=0.00878, valid_loss=0.10737, valid_f1=0.23823]\n",
      "Epoch [10/20]: 100%|██████████| 187/187 [00:03<00:00, 49.69it/s, train_loss=0.00688, valid_loss=0.09410, valid_f1=0.28210]\n",
      "Epoch [11/20]: 100%|██████████| 187/187 [00:03<00:00, 48.76it/s, train_loss=0.00475, valid_loss=0.09207, valid_f1=0.30375]\n",
      "Epoch [12/20]: 100%|██████████| 187/187 [00:03<00:00, 49.59it/s, train_loss=0.00458, valid_loss=0.09760, valid_f1=0.30686]\n",
      "Epoch [13/20]: 100%|██████████| 187/187 [00:03<00:00, 47.72it/s, train_loss=0.00289, valid_loss=0.08795, valid_f1=0.33836]\n",
      "Epoch [14/20]: 100%|██████████| 187/187 [00:03<00:00, 49.79it/s, train_loss=0.00280, valid_loss=0.09402, valid_f1=0.33704]\n",
      "Epoch [15/20]: 100%|██████████| 187/187 [00:03<00:00, 49.33it/s, train_loss=0.00240, valid_loss=0.09793, valid_f1=0.31624]\n",
      "Epoch [16/20]: 100%|██████████| 187/187 [00:03<00:00, 48.68it/s, train_loss=0.00197, valid_loss=0.10375, valid_f1=0.30045]\n",
      "Epoch [17/20]: 100%|██████████| 187/187 [00:03<00:00, 49.64it/s, train_loss=0.00191, valid_loss=0.10528, valid_f1=0.31072]\n",
      "Epoch [18/20]: 100%|██████████| 187/187 [00:03<00:00, 47.90it/s, train_loss=0.00168, valid_loss=0.09674, valid_f1=0.33599]\n",
      "Epoch [19/20]: 100%|██████████| 187/187 [00:03<00:00, 48.80it/s, train_loss=0.00170, valid_loss=0.11857, valid_f1=0.26807]\n",
      "Epoch [20/20]: 100%|██████████| 187/187 [00:03<00:00, 47.97it/s, train_loss=0.00130, valid_loss=0.10673, valid_f1=0.29902]\n"
     ]
    }
   ],
   "source": [
    "epoch_size = 20\n",
    "batch_size = 32\n",
    "lr = 1e-3\n",
    "\n",
    "model = AuthorAttriClf().to(device)\n",
    "optim = torch.optim.AdamW(model.parameters(), lr=lr)\n",
    "scheduler = torch.optim.lr_scheduler.MultiplicativeLR(optim, lr_lambda=lambda epoch: 0.95)\n",
    "criterion = nn.BCEWithLogitsLoss()\n",
    "\n",
    "train_loader = DataLoader(train_set, batch_size=batch_size, shuffle=True)\n",
    "valid_loader = DataLoader(valid_set, batch_size=128, shuffle=True)\n",
    "\n",
    "train_status = {'train_loss': []}\n",
    "train(train_status, model, optim, scheduler, criterion, epoch_size, train_loader, valid_loader)"
   ]
  },
  {
   "cell_type": "code",
   "execution_count": 21,
   "metadata": {
    "id": "2x3VIck3495a",
    "tags": []
   },
   "outputs": [],
   "source": [
    "def get_predictions(model, test_loader):\n",
    "    with torch.no_grad():\n",
    "        preds = []\n",
    "        identifiers = []\n",
    "\n",
    "        for batch, (inputs, ids) in enumerate(test_loader):\n",
    "            inputs = inputs.to(device)\n",
    "            outputs = torch.sigmoid(model(inputs))\n",
    "\n",
    "            for i in range(outputs.shape[0]):\n",
    "                identifiers.append(int(ids[i]))\n",
    "                pred = torch.nonzero((outputs[i].cpu() > 0.5).int())\n",
    "                if len(pred) > 0:\n",
    "                    preds.append(\" \".join([str(int(i)) for i in pred]))\n",
    "                else:\n",
    "                    preds.append(\"-1\")\n",
    "\n",
    "        df = pd.DataFrame({'ID': identifiers, 'Predict': preds})\n",
    "        df.to_csv('data/pred.csv', sep=',', index=False, encoding='utf-8')\n",
    "\n",
    "test_set = PaperDataset(r\"data/downsamp/test.json\", test=True)\n",
    "test_loader = DataLoader(test_set, batch_size=128, shuffle=False, num_workers=0)\n",
    "get_predictions(model, test_loader)"
   ]
  },
  {
   "cell_type": "code",
   "execution_count": null,
   "metadata": {},
   "outputs": [],
   "source": []
  }
 ],
 "metadata": {
  "colab": {
   "authorship_tag": "ABX9TyM3yOBfwspXD4IlXrpSrBdK",
   "collapsed_sections": [],
   "provenance": []
  },
  "kernelspec": {
   "display_name": "Python 3 (ipykernel)",
   "language": "python",
   "name": "python3"
  },
  "language_info": {
   "codemirror_mode": {
    "name": "ipython",
    "version": 3
   },
   "file_extension": ".py",
   "mimetype": "text/x-python",
   "name": "python",
   "nbconvert_exporter": "python",
   "pygments_lexer": "ipython3",
   "version": "3.7.13"
  }
 },
 "nbformat": 4,
 "nbformat_minor": 4
}
